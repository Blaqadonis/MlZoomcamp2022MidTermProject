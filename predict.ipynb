{
 "cells": [
  {
   "cell_type": "code",
   "execution_count": 10,
   "metadata": {},
   "outputs": [],
   "source": [
    "import pandas as pd\n",
    "import numpy as np\n",
    "import matplotlib.pyplot as plt\n",
    "import seaborn as sns \n",
    "from sklearn.impute import SimpleImputer\n",
    "import plotly.express as px\n",
    "import warnings\n",
    "warnings.filterwarnings(action = 'ignore')\n",
    "from sklearn.feature_extraction import DictVectorizer\n",
    "from sklearn.metrics import roc_auc_score\n",
    "import xgboost as xgb\n",
    "%matplotlib inline"
   ]
  },
  {
   "cell_type": "code",
   "execution_count": 11,
   "metadata": {},
   "outputs": [],
   "source": [
    "data = pd.read_csv('weatherAUS.csv')\n",
    "data.columns = data.columns.str.lower()\n",
    "string_columns = list(data.dtypes[data.dtypes == 'object'].index)\n",
    "\n",
    "for col in string_columns:\n",
    "    data[col] = data[col].str.lower().str.replace(' ', '_')\n",
    "\n",
    "data.dropna(subset=['raintomorrow'], inplace=True)\n",
    "data.raintomorrow = (data.raintomorrow == 'yes').astype(int)\n",
    "categorical = list(data.dtypes[data.dtypes == 'object'].index)\n",
    "numerical = list(data.dtypes[data.dtypes != 'object'].index)\n",
    "df = data.copy()\n",
    "imputer = SimpleImputer(strategy='mean')\n",
    "imputer2 = SimpleImputer(strategy='most_frequent')\n",
    "df[numerical] = imputer.fit_transform(df[numerical])\n",
    "df[categorical] = imputer2.fit_transform(df[categorical])\n",
    "df['year'] = pd.to_datetime(df.date).dt.year\n",
    "df['month'] = pd.to_datetime(df.date).dt.month\n",
    "df['day'] = pd.to_datetime(df.date).dt.day\n",
    "\n",
    "train_df = df[df['year']<2015]\n",
    "val_df = df[df['year']==2015]\n",
    "test_df = df[df['year']>2015]\n",
    "\n",
    "train_df = train_df.reset_index(drop=True)\n",
    "val_df = val_df.reset_index(drop=True)\n",
    "test_df = test_df.reset_index(drop=True)\n",
    "\n",
    "train = train_df.drop('raintomorrow', axis=1)\n",
    "y_train=train_df['raintomorrow']\n",
    "test = test_df.drop('raintomorrow', axis=1)\n",
    "y_test=test_df['raintomorrow']\n",
    "val = val_df.drop('raintomorrow', axis=1)\n",
    "y_val = val_df['raintomorrow']\n",
    "\n",
    "del train['year']\n",
    "del train['date']\n",
    "del val['year']\n",
    "del val['date']\n",
    "del test['year']\n",
    "del test['date']\n",
    "\n",
    "\n",
    "dict_train = train.to_dict(orient='records')\n",
    "dict_val = val.to_dict(orient='records')\n",
    "dict_test = test.to_dict(orient='records')\n",
    "\n",
    "dv = DictVectorizer(sparse=False)\n",
    "\n",
    "X_train = dv.fit_transform(dict_train)\n",
    "X_val = dv.transform(dict_val)\n",
    "X_test = dv.transform(dict_test)\n",
    "\n",
    "\n",
    "dtrain = xgb.DMatrix(X_train, label=y_train)\n",
    "dval = xgb.DMatrix(X_val, label=y_val)\n",
    "dtest = xgb.DMatrix(X_test, label=y_test)\n",
    "\n",
    "\n",
    "xgb_params = {\n",
    "    'eta': 0.1,\n",
    "    'max_depth': 6,\n",
    "    'min_child_weight': 30,\n",
    "\n",
    "    'objective': 'binary:logistic',\n",
    "    'eval_metric': 'auc',\n",
    "    'nthread': 8,\n",
    "    'seed': 1,\n",
    "}\n",
    "\n",
    "model = xgb.train(xgb_params, dtrain,\n",
    "                  num_boost_round=430)  #, verbose_eval=10,\n",
    "                  #evals=watchlist)"
   ]
  },
  {
   "cell_type": "code",
   "execution_count": 12,
   "metadata": {},
   "outputs": [],
   "source": [
    "\n",
    "\n",
    "y_pred_xgb = model.predict(dtest)\n",
    "\n",
    "\n"
   ]
  },
  {
   "cell_type": "code",
   "execution_count": 13,
   "metadata": {},
   "outputs": [
    {
     "data": {
      "text/plain": [
       "Model(tag=\"rain_tomorrow_model:egqcgtsv72rzv6fm\", path=\"C:\\Users\\Odiaka\\bentoml\\models\\rain_tomorrow_model\\egqcgtsv72rzv6fm\\\")"
      ]
     },
     "execution_count": 13,
     "metadata": {},
     "output_type": "execute_result"
    }
   ],
   "source": [
    "import bentoml\n",
    "bentoml.xgboost.save_model(\"rain_tomorrow_model\",model, custom_objects={\"dictVectorizer\":dv},\n",
    "signatures={\"predict\": {\"batchable\":True,\"batch_dim\":0,}})"
   ]
  }
 ],
 "metadata": {
  "kernelspec": {
   "display_name": "Python 3.9.12 64-bit ('miniconda3')",
   "language": "python",
   "name": "python3"
  },
  "language_info": {
   "codemirror_mode": {
    "name": "ipython",
    "version": 3
   },
   "file_extension": ".py",
   "mimetype": "text/x-python",
   "name": "python",
   "nbconvert_exporter": "python",
   "pygments_lexer": "ipython3",
   "version": "3.9.12"
  },
  "orig_nbformat": 4,
  "vscode": {
   "interpreter": {
    "hash": "1c2d89b920c1e7b9a9e96273fbcdef5067d8abfb276a5fc1e1756dea1541fcf8"
   }
  }
 },
 "nbformat": 4,
 "nbformat_minor": 2
}
